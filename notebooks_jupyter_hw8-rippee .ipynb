{
 "cells": [
  {
   "cell_type": "code",
   "execution_count": 1,
   "metadata": {},
   "outputs": [
    {
     "name": "stdout",
     "output_type": "stream",
     "text": [
      "+-------+-----+\n",
      "|movieID|count|\n",
      "+-------+-----+\n",
      "|    356|81491|\n",
      "|    318|81482|\n",
      "|    296|79672|\n",
      "|    593|74127|\n",
      "|   2571|72674|\n",
      "|    260|68717|\n",
      "|    480|64144|\n",
      "|    527|60411|\n",
      "|    110|59184|\n",
      "|   2959|58773|\n",
      "|    589|57379|\n",
      "|   1196|57361|\n",
      "|      1|57309|\n",
      "|   4993|55736|\n",
      "|     50|55366|\n",
      "|   1210|54917|\n",
      "|   1198|54675|\n",
      "|   2858|53689|\n",
      "|    858|52498|\n",
      "|   5952|51138|\n",
      "+-------+-----+\n",
      "\n"
     ]
    }
   ],
   "source": [
    "from pyspark.sql import SparkSession\n",
    "\n",
    "spark = SparkSession.builder.appName(\"TopRatedMovies\").getOrCreate()\n",
    "\n",
    "rating_file_path = \"gs://dataprocbucket_new/rating.csv\"\n",
    "\n",
    "ratings_df = spark.read.csv(rating_file_path, header=True, inferSchema=True)\n",
    "\n",
    "movie_rating_counts = ratings_df.groupBy(\"movieID\").count()\n",
    "\n",
    "top_rated_movies = movie_rating_counts.orderBy(\"count\", ascending=False).limit(20)\n",
    "top_rated_movies.show()\n",
    "\n",
    "spark.stop()"
   ]
  },
  {
   "cell_type": "code",
   "execution_count": 2,
   "metadata": {},
   "outputs": [
    {
     "name": "stdout",
     "output_type": "stream",
     "text": [
      "+-------+-----------+----------+\n",
      "|movieID|num_ratings|avg_rating|\n",
      "+-------+-----------+----------+\n",
      "| 171011|       1124|      4.48|\n",
      "| 159817|       1747|      4.46|\n",
      "|    318|      81482|      4.41|\n",
      "| 170705|       1356|       4.4|\n",
      "| 171495|        277|      4.33|\n",
      "|    858|      52498|      4.32|\n",
      "| 179135|        659|      4.29|\n",
      "|     50|      55366|      4.28|\n",
      "| 174551|         36|      4.28|\n",
      "| 198185|        288|      4.27|\n",
      "|   1221|      34188|      4.26|\n",
      "| 163809|        546|      4.26|\n",
      "| 176601|        456|      4.26|\n",
      "| 142115|        564|      4.25|\n",
      "|   2019|      13367|      4.25|\n",
      "|    527|      60411|      4.25|\n",
      "| 147250|        147|      4.25|\n",
      "|   1203|      16569|      4.24|\n",
      "| 159819|        229|      4.24|\n",
      "| 147124|         29|      4.24|\n",
      "+-------+-----------+----------+\n",
      "\n"
     ]
    }
   ],
   "source": [
    "from pyspark.sql import SparkSession\n",
    "from pyspark.sql.functions import col, avg, count, round\n",
    "\n",
    "spark = SparkSession.builder.appName(\"TopRatedMovies\").getOrCreate()\n",
    "\n",
    "rating_file_path = \"gs://dataprocbucket_new/rating.csv\"\n",
    "ratings_df = spark.read.format(\"csv\").option(\"header\", \"true\").option(\"inferSchema\", \"true\").load(rating_file_path)\n",
    "\n",
    "movie_avg_rating = ratings_df.groupBy(\"movieID\").agg(round(avg(\"rating\"), 2).alias(\"avg_rating\"), count(\"*\").alias(\"num_ratings\"))\n",
    "\n",
    "top_rated_movies = movie_avg_rating.filter(col(\"num_ratings\") >= 20).orderBy(col(\"avg_rating\").desc()).limit(20)\n",
    "\n",
    "top_rated_movies.select(\"movieID\", \"num_ratings\", \"avg_rating\").show()\n",
    "\n",
    "spark.stop()"
   ]
  },
  {
   "cell_type": "code",
   "execution_count": null,
   "metadata": {},
   "outputs": [],
   "source": []
  }
 ],
 "metadata": {
  "kernelspec": {
   "display_name": "PySpark",
   "language": "python",
   "name": "pyspark"
  },
  "language_info": {
   "codemirror_mode": {
    "name": "ipython",
    "version": 3
   },
   "file_extension": ".py",
   "mimetype": "text/x-python",
   "name": "python",
   "nbconvert_exporter": "python",
   "pygments_lexer": "ipython3",
   "version": "3.6.13"
  }
 },
 "nbformat": 4,
 "nbformat_minor": 2
}